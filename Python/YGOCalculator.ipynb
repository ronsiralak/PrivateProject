{
 "cells": [
  {
   "cell_type": "code",
   "execution_count": 1,
   "id": "19bdc398",
   "metadata": {},
   "outputs": [
    {
     "name": "stderr",
     "output_type": "stream",
     "text": [
      "c:\\Users\\Admin\\AppData\\Local\\Programs\\Python\\Python310\\lib\\site-packages\\numpy\\_distributor_init.py:30: UserWarning: loaded more than 1 DLL from .libs:\n",
      "c:\\Users\\Admin\\AppData\\Local\\Programs\\Python\\Python310\\lib\\site-packages\\numpy\\.libs\\libopenblas.EL2C6PLE4ZYW3ECEVIV3OXXGRN2NRFM2.gfortran-win_amd64.dll\n",
      "c:\\Users\\Admin\\AppData\\Local\\Programs\\Python\\Python310\\lib\\site-packages\\numpy\\.libs\\libopenblas.FB5AE2TYXYH2IJRDKGDGQ3XBKLKTF43H.gfortran-win_amd64.dll\n",
      "  warnings.warn(\"loaded more than 1 DLL from .libs:\"\n"
     ]
    }
   ],
   "source": [
    "import pandas as pd\n",
    "import numpy as np\n",
    "import matplotlib.pyplot as plt\n",
    "plt.rcParams['font.family'] = 'tahoma'"
   ]
  },
  {
   "attachments": {},
   "cell_type": "markdown",
   "id": "cfbfa363",
   "metadata": {},
   "source": [
    "# In 1 deck with 1 card combo Avg is 15 Staple+Handtrap 10 Starter 10 Extender 5 Brick\n",
    "# Cal prop start hand 5 card have 0-1 brick 2 staple 1 starter 1-2 extender"
   ]
  },
  {
   "cell_type": "code",
   "execution_count": 2,
   "id": "b7e1a580",
   "metadata": {},
   "outputs": [],
   "source": [
    "def choose(n,r):\n",
    "    return (np.math.factorial(n))/(np.math.factorial(r)*np.math.factorial(n-r)) #  n!/( r! * (n-r)! )"
   ]
  },
  {
   "attachments": {},
   "cell_type": "markdown",
   "id": "63cc5639",
   "metadata": {},
   "source": [
    "Example Firewall deck"
   ]
  },
  {
   "cell_type": "code",
   "execution_count": 3,
   "id": "1dc92427",
   "metadata": {},
   "outputs": [
    {
     "data": {
      "text/plain": [
       "41"
      ]
     },
     "execution_count": 3,
     "metadata": {},
     "output_type": "execute_result"
    }
   ],
   "source": [
    "Starter = 9\n",
    "Extender = 9\n",
    "Brick = 7\n",
    "Staple = 5\n",
    "Handtrap = 11\n",
    "Deck = Starter + Extender + Brick + Staple + Handtrap\n",
    "Deck"
   ]
  },
  {
   "cell_type": "code",
   "execution_count": 4,
   "id": "ab4c8b34",
   "metadata": {},
   "outputs": [
    {
     "data": {
      "text/plain": [
       "4.707778777098418"
      ]
     },
     "execution_count": 4,
     "metadata": {},
     "output_type": "execute_result"
    }
   ],
   "source": [
    "def DeckCal(Starter,Extender,Brick,Staple,Handtrap,WantStarter,WantExtender,WantBrick,Other):\n",
    "    StaHT = Staple + Handtrap\n",
    "    ns =  choose(Deck,5)\n",
    "    ne = choose(Starter,WantStarter)*choose(Extender,WantExtender)*choose(Brick,WantBrick)*choose(StaHT,Other)\n",
    "\n",
    "    prop = ne/ns\n",
    "    return prop*100 \n",
    "\n",
    "DeckCal(9,9,7,5,11 ,1,0,1,3)"
   ]
  },
  {
   "cell_type": "code",
   "execution_count": 5,
   "id": "878bbe15",
   "metadata": {},
   "outputs": [
    {
     "name": "stdout",
     "output_type": "stream",
     "text": [
      "deck : 38\n",
      "42.98504608102131\n",
      "deck : 39\n",
      "43.7198331935174\n",
      "deck : 40\n",
      "43.7198331935174\n",
      "deck : 41\n",
      "43.18666449603548\n"
     ]
    }
   ],
   "source": [
    "def PlayAble(Starter,Extender,Brick,Staple,Handtrap,  WantStarter):\n",
    "    Deck = Starter + Extender + Brick + Staple + Handtrap\n",
    "    print(\"deck : \" + str(Deck))\n",
    "    ns =  choose(Deck,5)\n",
    "    ne = choose(Starter,WantStarter)*choose(Deck-Starter,5 - WantStarter)\n",
    "\n",
    "    prop = ne/ns\n",
    "    return prop*100 \n",
    "\n",
    "print(PlayAble(6,9,7,5,11 ,1)) #deck 39 starter 6\n",
    "\n",
    "print(PlayAble(7,9,7,5,11 ,1)) #deck 40 starter 7\n",
    "\n",
    "print(PlayAble(8,9,7,5,11 ,1)) #deck 41 starter 8\n",
    "\n",
    "print(PlayAble(9,9,7,5,11 ,1)) #deck 42 starter 9"
   ]
  },
  {
   "cell_type": "code",
   "execution_count": 6,
   "id": "87b3e56b",
   "metadata": {},
   "outputs": [],
   "source": [
    "def PlayAble2(Starter,Deck):\n",
    "    ns =  choose(Deck,5)\n",
    "    ne = choose(Starter,1)*choose(Deck-Starter,4)\n",
    "\n",
    "    prop = ne/ns\n",
    "    return prop*100 "
   ]
  },
  {
   "cell_type": "code",
   "execution_count": 22,
   "id": "e3e26e17",
   "metadata": {},
   "outputs": [
    {
     "data": {
      "text/plain": [
       "29.54971857410882"
      ]
     },
     "execution_count": 22,
     "metadata": {},
     "output_type": "execute_result"
    }
   ],
   "source": [
    "PlayAble2(3,41)"
   ]
  },
  {
   "cell_type": "code",
   "execution_count": 28,
   "id": "a4c49175",
   "metadata": {},
   "outputs": [],
   "source": [
    "def DrawSide(Side,Deck):\n",
    "    ns =  choose(Deck,5)\n",
    "    ne = choose(Deck-Side,5)\n",
    "\n",
    "    prop = 1-ne/ns\n",
    "    return prop*100 "
   ]
  },
  {
   "cell_type": "code",
   "execution_count": 29,
   "id": "00752bfd",
   "metadata": {},
   "outputs": [
    {
     "data": {
      "text/plain": [
       "33.75506072874494"
      ]
     },
     "execution_count": 29,
     "metadata": {},
     "output_type": "execute_result"
    }
   ],
   "source": [
    "DrawSide(1,40)"
   ]
  },
  {
   "cell_type": "code",
   "execution_count": 8,
   "id": "ef2d0248",
   "metadata": {},
   "outputs": [],
   "source": [
    "data = []"
   ]
  },
  {
   "cell_type": "code",
   "execution_count": 9,
   "id": "bd80efa7",
   "metadata": {},
   "outputs": [],
   "source": [
    "for i in range(43,44):\n",
    "    for j in range(2,4):\n",
    "        d = \"{:.3f}\".format(PlayAble2(j,i))\n",
    "        AD = (i,j,d)\n",
    "        data.append(AD)"
   ]
  },
  {
   "cell_type": "code",
   "execution_count": 10,
   "id": "36f2b848",
   "metadata": {},
   "outputs": [],
   "source": [
    "data\n",
    "sorted_data = sorted(data, key=lambda x: x[2], reverse=True)"
   ]
  },
  {
   "cell_type": "code",
   "execution_count": 11,
   "id": "baee7b00",
   "metadata": {},
   "outputs": [
    {
     "data": {
      "text/plain": [
       "[(43, 3, '28.482'), (43, 2, '21.041')]"
      ]
     },
     "execution_count": 11,
     "metadata": {},
     "output_type": "execute_result"
    }
   ],
   "source": [
    "sorted_data"
   ]
  },
  {
   "cell_type": "code",
   "execution_count": 12,
   "id": "7aab39ad",
   "metadata": {},
   "outputs": [],
   "source": [
    "def HT12(HT,Deck):\n",
    "    ns =  choose(Deck,5)\n",
    "    ne = choose(HT,1)*choose(Deck-HT,4) + choose(HT,2)*choose(Deck-HT,3)\n",
    "    prop = ne/ns\n",
    "    return prop*100 "
   ]
  },
  {
   "cell_type": "code",
   "execution_count": 13,
   "id": "cd3f06e5",
   "metadata": {},
   "outputs": [
    {
     "data": {
      "text/plain": [
       "65.73959222853154"
      ]
     },
     "execution_count": 13,
     "metadata": {},
     "output_type": "execute_result"
    }
   ],
   "source": [
    "HT12(9,43)"
   ]
  },
  {
   "cell_type": "code",
   "execution_count": 14,
   "id": "df7703fa",
   "metadata": {},
   "outputs": [
    {
     "data": {
      "text/plain": [
       "[(42, 14, '68.742'), (41, 14, '68.305'), (40, 14, '67.765')]"
      ]
     },
     "execution_count": 14,
     "metadata": {},
     "output_type": "execute_result"
    }
   ],
   "source": [
    "dataHT = []\n",
    "for i in range(40,43):\n",
    "    for j in range(14,15):\n",
    "        d = \"{:.3f}\".format(HT12(j,i))\n",
    "        AD = (i,j,d)\n",
    "        dataHT.append(AD)\n",
    "sorted_dataHT = sorted(dataHT, key=lambda x: x[2], reverse=True)\n",
    "sorted_dataHT\n"
   ]
  },
  {
   "cell_type": "code",
   "execution_count": null,
   "id": "6724ca09",
   "metadata": {},
   "outputs": [],
   "source": []
  },
  {
   "cell_type": "code",
   "execution_count": 15,
   "id": "9b2c982a",
   "metadata": {},
   "outputs": [
    {
     "data": {
      "text/plain": [
       "[(40, 8, '43.720'),\n",
       " (41, 8, '43.683'),\n",
       " (40, 7, '43.531'),\n",
       " (41, 7, '43.319'),\n",
       " (41, 9, '43.187'),\n",
       " (40, 9, '43.037'),\n",
       " (40, 6, '42.288'),\n",
       " (41, 6, '41.922'),\n",
       " (40, 5, '39.787'),\n",
       " (41, 5, '39.302'),\n",
       " (40, 4, '35.808'),\n",
       " (41, 4, '35.252')]"
      ]
     },
     "execution_count": 15,
     "metadata": {},
     "output_type": "execute_result"
    }
   ],
   "source": [
    "dataX = []\n",
    "for i in range(40,42):\n",
    "    for j in range(4,10):\n",
    "        d = \"{:.3f}\".format(PlayAble2(j,i))\n",
    "        AD = (i,j,d)\n",
    "        dataX.append(AD)\n",
    "sorted_dataX = sorted(dataX, key=lambda x: x[2], reverse=True)\n",
    "sorted_dataX"
   ]
  },
  {
   "attachments": {},
   "cell_type": "markdown",
   "id": "11de6c76",
   "metadata": {},
   "source": [
    "# Best ratio in Firewall  \n",
    "Starter 8  \n",
    "Extender 9  \n",
    "Handtrap 10  \n",
    "Staple 5  \n",
    "Brick 8    "
   ]
  },
  {
   "attachments": {},
   "cell_type": "markdown",
   "id": "891d18b5",
   "metadata": {},
   "source": [
    "# Calculate Process\n",
    "1. Find number fix play card in deck then classified  \n",
    "2. Find range of all type card\n",
    "3. Find deck size range\n",
    "4. Calculate & config"
   ]
  },
  {
   "cell_type": "code",
   "execution_count": 16,
   "id": "ebecc07b",
   "metadata": {},
   "outputs": [
    {
     "name": "stderr",
     "output_type": "stream",
     "text": [
      "No artists with labels found to put in legend.  Note that artists whose label start with an underscore are ignored when legend() is called with no argument.\n"
     ]
    },
    {
     "name": "stdout",
     "output_type": "stream",
     "text": [
      "deck : 35\n",
      "deck : 36\n",
      "deck : 37\n",
      "deck : 38\n",
      "deck : 39\n",
      "deck : 40\n",
      "deck : 41\n",
      "deck : 42\n",
      "deck : 43\n",
      "deck : 44\n",
      "deck : 45\n",
      "deck : 46\n"
     ]
    },
    {
     "data": {
      "image/png": "[encoded data removed]",
      "text/plain": [
       "<Figure size 864x432 with 1 Axes>"
      ]
     },
     "metadata": {
      "needs_background": "light"
     },
     "output_type": "display_data"
    }
   ],
   "source": [
    "plt.figure(figsize=[12,6])\n",
    "plt.plot(range(3,15),[PlayAble(x,9,7,5,11 ,1) for x in range(3,15)]) #8 starter -> deck 40\n",
    "plt.legend()\n",
    "plt.title('ความน่าจะเป็นที่จะจั่วได้ของเล่น 1')\n",
    "plt.xlabel('จำนวนใบเปิด 1 card')\n",
    "plt.ylabel('prob')\n",
    "plt.grid()\n",
    "plt.show()"
   ]
  },
  {
   "attachments": {},
   "cell_type": "markdown",
   "id": "f74ea16f",
   "metadata": {},
   "source": [
    "# Case 2 card combo Cal prop start hand 5 card that can be play able\n",
    "condition  \n",
    "have 2 combo piece  \n"
   ]
  },
  {
   "attachments": {},
   "cell_type": "markdown",
   "id": "662db701",
   "metadata": {},
   "source": [
    "example Drytron deck  \n",
    "deck 40  \n",
    "alpha 3  \n",
    "zeta 3    \n",
    "findpair any2 diff name  \n"
   ]
  },
  {
   "cell_type": "code",
   "execution_count": 17,
   "id": "79f92224",
   "metadata": {},
   "outputs": [],
   "source": [
    "ComboP1 = 3 #alpha\n",
    "ComboP1 = 3 #zeta\n",
    "ComboAny = 9 #drytron nova3 cyber emer 3 diviner 3\n",
    "Deck = 40"
   ]
  },
  {
   "cell_type": "code",
   "execution_count": 18,
   "id": "d5be19cb",
   "metadata": {},
   "outputs": [
    {
     "data": {
      "text/plain": [
       "11.538461538461538"
      ]
     },
     "execution_count": 18,
     "metadata": {},
     "output_type": "execute_result"
    }
   ],
   "source": [
    "def AlphaZeta(p1,p2,Deck):\n",
    "    ns =  choose(Deck,5)\n",
    "    ne = choose(3,1)*choose(3,1)*choose(Deck-2,3)\n",
    "    prop = ne/ns\n",
    "    return prop*100 \n",
    "AlphaZeta(3,3,40)"
   ]
  },
  {
   "cell_type": "code",
   "execution_count": 19,
   "id": "a73c2590",
   "metadata": {},
   "outputs": [
    {
     "data": {
      "text/plain": [
       "92.27806852967315"
      ]
     },
     "execution_count": 19,
     "metadata": {},
     "output_type": "execute_result"
    }
   ],
   "source": [
    "def TwoCard(Input,Deck): #Input = number combo play card in deck\n",
    "    ns =  choose(Deck,5)\n",
    "    ne = choose(Deck-Input,5) +  choose(Input,1)*choose(Deck-Input,4)#dont draw + draw only 1 \n",
    "    prop = 1-ne/ns #draw 2 piece combo at least 1\n",
    "    return prop*100 \n",
    "TwoCard(25,42)"
   ]
  },
  {
   "cell_type": "code",
   "execution_count": 20,
   "id": "8a4cea79",
   "metadata": {},
   "outputs": [
    {
     "data": {
      "text/plain": [
       "[(40, 20, '82.918'),\n",
       " (41, 20, '81.312'),\n",
       " (42, 20, '79.706'),\n",
       " (40, 19, '79.626'),\n",
       " (43, 20, '78.106'),\n",
       " (41, 19, '77.940'),\n",
       " (44, 20, '76.517'),\n",
       " (42, 19, '76.266'),\n",
       " (40, 18, '75.988'),\n",
       " (43, 19, '74.611'),\n",
       " (41, 18, '74.241'),\n",
       " (44, 19, '72.976'),\n",
       " (42, 18, '72.519'),\n",
       " (40, 17, '72.009'),\n",
       " (43, 18, '70.826'),\n",
       " (41, 17, '70.223'),\n",
       " (44, 18, '69.164'),\n",
       " (42, 17, '68.474'),\n",
       " (40, 16, '67.703'),\n",
       " (43, 17, '66.764'),\n",
       " (41, 16, '65.902'),\n",
       " (44, 17, '65.094'),\n",
       " (42, 16, '64.148'),\n",
       " (40, 15, '63.089'),\n",
       " (43, 16, '62.442'),\n",
       " (41, 15, '61.298'),\n",
       " (44, 16, '60.785'),\n",
       " (42, 15, '59.564'),\n",
       " (40, 14, '58.195'),\n",
       " (43, 15, '57.884'),\n",
       " (41, 14, '56.441'),\n",
       " (44, 15, '56.260'),\n",
       " (42, 14, '54.750'),\n",
       " (43, 14, '53.120'),\n",
       " (40, 13, '53.058'),\n",
       " (44, 14, '51.550'),\n",
       " (41, 13, '51.367'),\n",
       " (42, 13, '49.743'),\n",
       " (43, 13, '48.185'),\n",
       " (40, 12, '47.724'),\n",
       " (44, 13, '46.690'),\n",
       " (41, 12, '46.121'),\n",
       " (42, 12, '44.589'),\n",
       " (43, 12, '43.124'),\n",
       " (40, 11, '42.248'),\n",
       " (44, 12, '41.723'),\n",
       " (41, 11, '40.758'),\n",
       " (42, 11, '39.339'),\n",
       " (43, 11, '37.987'),\n",
       " (44, 11, '36.699'),\n",
       " (40, 10, '36.694'),\n",
       " (41, 10, '35.340'),\n",
       " (42, 10, '34.055'),\n",
       " (43, 10, '32.834'),\n",
       " (44, 10, '31.675'),\n",
       " (40, 9, '31.141'),\n",
       " (41, 9, '29.942'),\n",
       " (42, 9, '28.807'),\n",
       " (43, 9, '27.733'),\n",
       " (44, 9, '26.716')]"
      ]
     },
     "execution_count": 20,
     "metadata": {},
     "output_type": "execute_result"
    }
   ],
   "source": [
    "dataTwo = []\n",
    "for i in range(40,45):\n",
    "    for j in range(9,21):\n",
    "        d = \"{:.3f}\".format(TwoCard(j,i))\n",
    "        AD = (i,j,d)\n",
    "        dataTwo.append(AD)\n",
    "sorted_dataTwo = sorted(dataTwo, key=lambda x: x[2], reverse=True)\n",
    "sorted_dataTwo"
   ]
  }
 ],
 "metadata": {
  "kernelspec": {
   "display_name": "Python 3",
   "language": "python",
   "name": "python3"
  },
  "language_info": {
   "codemirror_mode": {
    "name": "ipython",
    "version": 3
   },
   "file_extension": ".py",
   "mimetype": "text/x-python",
   "name": "python",
   "nbconvert_exporter": "python",
   "pygments_lexer": "ipython3",
   "version": "3.10.7"
  },
  "vscode": {
   "interpreter": {
    "hash": "a42ccb73e7d9bfdf27e036f1d2b8b681e55fc0743cc5586bc2474d4a60f4b886"
   }
  }
 },
 "nbformat": 4,
 "nbformat_minor": 5
}
